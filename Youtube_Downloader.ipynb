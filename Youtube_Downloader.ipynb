{
  "nbformat": 4,
  "nbformat_minor": 0,
  "metadata": {
    "colab": {
      "provenance": [],
      "private_outputs": true,
      "cell_execution_strategy": "setup"
    },
    "kernelspec": {
      "name": "python3",
      "display_name": "Python 3"
    },
    "language_info": {
      "name": "python"
    }
  },
  "cells": [
    {
      "cell_type": "markdown",
      "source": [
        "# Youtube Downloader\n",
        "\n",
        "### Links\n",
        "| |GitHub| Colab | |\n",
        "|:--|:-:|:-:|:-:|\n",
        "| **Youtube Downloader** | [GitHub](https://github.com/Stephensmetana/YoutubeDownloader/blob/main/Youtube_Downloader.ipynb) | [Open in Colab](https://colab.research.google.com/github/Stephensmetana/YoutubeDownloader/blob/main/Youtube_Downloader.ipynb) |\n",
        "\n",
        "---\n",
        "###Disclaimer\n",
        "The purpose of this project is to gain experience with Python and Google Colab. Please consider the TOS for Youtube and Google Colab when you use this project\n",
        "\n",
        "###Features\n",
        "The project is a Google Colab app that leverages pytube to to download Youtube videos directly into Google Drive.\n",
        "It has the ability to download the video or just the audio."
      ],
      "metadata": {
        "id": "PfxE7nDGcSCT"
      }
    },
    {
      "metadata": {
        "id": "dblFyEHvyUV3",
        "cellView": "form"
      },
      "cell_type": "code",
      "source": [
        "#@markdown ### Install and Connect to Google Drive\n",
        "from google.colab import drive\n",
        "import os, sys\n",
        "!pip3 install pytube\n",
        "from pytube import YouTube\n",
        "from IPython.display import YouTubeVideo\n",
        "print(\"Connecting to Google Drive...\")\n",
        "drive.mount('/content/drive')\n"
      ],
      "execution_count": null,
      "outputs": []
    },
    {
      "cell_type": "code",
      "source": [
        "#@markdown ### Set Google Drive Folder and Download\n",
        "\n",
        "#@markdown Set Downloads Folder\n",
        "download_folder = \"YoutubeDownload\" #@param {type:\"string\"}\n",
        "working_folder = \"/content/drive/MyDrive/\" + download_folder\n",
        "#@markdown Link to Video you want to download\n",
        "youtube_video_url = \"\" #@param {type:\"string\"}\n",
        "\n",
        "download_audio = False # @param {type:\"boolean\"}\n",
        "download_video = True # @param {type:\"boolean\"}\n",
        "\n",
        "yt = YouTube(youtube_video_url)\n",
        "\n",
        "if (download_audio):\n",
        "  filename = yt.streams.get_audio_only().title + \"_audio.mp4\"\n",
        "  fileSize = yt.streams.get_audio_only().filesize_mb\n",
        "  print (\"Downloading: \" + filename + \"; File size: \" + str(fileSize) + \" mb\")\n",
        "  yt.streams.get_audio_only().download(output_path=working_folder, filename=filename)\n",
        "if (download_video):\n",
        "  filename = yt.streams.get_highest_resolution().title + \".mp4\"\n",
        "  fileSize = yt.streams.get_highest_resolution().filesize_mb\n",
        "  print (\"Downloading: \" + filename + \"; File size: \" + str(fileSize) + \" mb\")\n",
        "  yt.streams.get_highest_resolution().download(working_folder)\n"
      ],
      "metadata": {
        "id": "WoiF2L3AYiHc",
        "cellView": "form"
      },
      "execution_count": null,
      "outputs": []
    }
  ]
}
